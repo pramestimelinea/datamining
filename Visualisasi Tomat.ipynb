{
  "cells": [
    {
      "cell_type": "code",
      "source": [
        "import numpy as np\n",
        "import matplotlib.pyplot as plt\n",
        "import pandas as pd"
      ],
      "metadata": {
        "id": "lHVLvzZecy8E"
      },
      "execution_count": 15,
      "outputs": []
    },
    {
      "cell_type": "code",
      "source": [
        "data = pd.read_csv(\"Tomato.csv\")\n",
        "data.head()"
      ],
      "metadata": {
        "id": "wHCL7dMjc0s7",
        "outputId": "de0e21b6-911a-4624-98bf-30dd3033c5a9",
        "colab": {
          "base_uri": "https://localhost:8080/",
          "height": 206
        }
      },
      "execution_count": 16,
      "outputs": [
        {
          "output_type": "execute_result",
          "data": {
            "text/plain": [
              "         Date Unit  Minimum  Maximum  Average  Market\n",
              "0  2013-06-16   Kg       26       32     29.0  Tomato\n",
              "1  2013-06-17   Kg       20       25     22.5  Tomato\n",
              "2  2013-06-18   Kg       22       26     24.0  Tomato\n",
              "3  2013-06-19   Kg       24       28     26.0  Tomato\n",
              "4  2013-06-20   Kg       22       26     24.0  Tomato"
            ],
            "text/html": [
              "\n",
              "  <div id=\"df-5f386ea0-5db9-4070-bf17-621b9bef0071\">\n",
              "    <div class=\"colab-df-container\">\n",
              "      <div>\n",
              "<style scoped>\n",
              "    .dataframe tbody tr th:only-of-type {\n",
              "        vertical-align: middle;\n",
              "    }\n",
              "\n",
              "    .dataframe tbody tr th {\n",
              "        vertical-align: top;\n",
              "    }\n",
              "\n",
              "    .dataframe thead th {\n",
              "        text-align: right;\n",
              "    }\n",
              "</style>\n",
              "<table border=\"1\" class=\"dataframe\">\n",
              "  <thead>\n",
              "    <tr style=\"text-align: right;\">\n",
              "      <th></th>\n",
              "      <th>Date</th>\n",
              "      <th>Unit</th>\n",
              "      <th>Minimum</th>\n",
              "      <th>Maximum</th>\n",
              "      <th>Average</th>\n",
              "      <th>Market</th>\n",
              "    </tr>\n",
              "  </thead>\n",
              "  <tbody>\n",
              "    <tr>\n",
              "      <th>0</th>\n",
              "      <td>2013-06-16</td>\n",
              "      <td>Kg</td>\n",
              "      <td>26</td>\n",
              "      <td>32</td>\n",
              "      <td>29.0</td>\n",
              "      <td>Tomato</td>\n",
              "    </tr>\n",
              "    <tr>\n",
              "      <th>1</th>\n",
              "      <td>2013-06-17</td>\n",
              "      <td>Kg</td>\n",
              "      <td>20</td>\n",
              "      <td>25</td>\n",
              "      <td>22.5</td>\n",
              "      <td>Tomato</td>\n",
              "    </tr>\n",
              "    <tr>\n",
              "      <th>2</th>\n",
              "      <td>2013-06-18</td>\n",
              "      <td>Kg</td>\n",
              "      <td>22</td>\n",
              "      <td>26</td>\n",
              "      <td>24.0</td>\n",
              "      <td>Tomato</td>\n",
              "    </tr>\n",
              "    <tr>\n",
              "      <th>3</th>\n",
              "      <td>2013-06-19</td>\n",
              "      <td>Kg</td>\n",
              "      <td>24</td>\n",
              "      <td>28</td>\n",
              "      <td>26.0</td>\n",
              "      <td>Tomato</td>\n",
              "    </tr>\n",
              "    <tr>\n",
              "      <th>4</th>\n",
              "      <td>2013-06-20</td>\n",
              "      <td>Kg</td>\n",
              "      <td>22</td>\n",
              "      <td>26</td>\n",
              "      <td>24.0</td>\n",
              "      <td>Tomato</td>\n",
              "    </tr>\n",
              "  </tbody>\n",
              "</table>\n",
              "</div>\n",
              "      <button class=\"colab-df-convert\" onclick=\"convertToInteractive('df-5f386ea0-5db9-4070-bf17-621b9bef0071')\"\n",
              "              title=\"Convert this dataframe to an interactive table.\"\n",
              "              style=\"display:none;\">\n",
              "        \n",
              "  <svg xmlns=\"http://www.w3.org/2000/svg\" height=\"24px\"viewBox=\"0 0 24 24\"\n",
              "       width=\"24px\">\n",
              "    <path d=\"M0 0h24v24H0V0z\" fill=\"none\"/>\n",
              "    <path d=\"M18.56 5.44l.94 2.06.94-2.06 2.06-.94-2.06-.94-.94-2.06-.94 2.06-2.06.94zm-11 1L8.5 8.5l.94-2.06 2.06-.94-2.06-.94L8.5 2.5l-.94 2.06-2.06.94zm10 10l.94 2.06.94-2.06 2.06-.94-2.06-.94-.94-2.06-.94 2.06-2.06.94z\"/><path d=\"M17.41 7.96l-1.37-1.37c-.4-.4-.92-.59-1.43-.59-.52 0-1.04.2-1.43.59L10.3 9.45l-7.72 7.72c-.78.78-.78 2.05 0 2.83L4 21.41c.39.39.9.59 1.41.59.51 0 1.02-.2 1.41-.59l7.78-7.78 2.81-2.81c.8-.78.8-2.07 0-2.86zM5.41 20L4 18.59l7.72-7.72 1.47 1.35L5.41 20z\"/>\n",
              "  </svg>\n",
              "      </button>\n",
              "      \n",
              "  <style>\n",
              "    .colab-df-container {\n",
              "      display:flex;\n",
              "      flex-wrap:wrap;\n",
              "      gap: 12px;\n",
              "    }\n",
              "\n",
              "    .colab-df-convert {\n",
              "      background-color: #E8F0FE;\n",
              "      border: none;\n",
              "      border-radius: 50%;\n",
              "      cursor: pointer;\n",
              "      display: none;\n",
              "      fill: #1967D2;\n",
              "      height: 32px;\n",
              "      padding: 0 0 0 0;\n",
              "      width: 32px;\n",
              "    }\n",
              "\n",
              "    .colab-df-convert:hover {\n",
              "      background-color: #E2EBFA;\n",
              "      box-shadow: 0px 1px 2px rgba(60, 64, 67, 0.3), 0px 1px 3px 1px rgba(60, 64, 67, 0.15);\n",
              "      fill: #174EA6;\n",
              "    }\n",
              "\n",
              "    [theme=dark] .colab-df-convert {\n",
              "      background-color: #3B4455;\n",
              "      fill: #D2E3FC;\n",
              "    }\n",
              "\n",
              "    [theme=dark] .colab-df-convert:hover {\n",
              "      background-color: #434B5C;\n",
              "      box-shadow: 0px 1px 3px 1px rgba(0, 0, 0, 0.15);\n",
              "      filter: drop-shadow(0px 1px 2px rgba(0, 0, 0, 0.3));\n",
              "      fill: #FFFFFF;\n",
              "    }\n",
              "  </style>\n",
              "\n",
              "      <script>\n",
              "        const buttonEl =\n",
              "          document.querySelector('#df-5f386ea0-5db9-4070-bf17-621b9bef0071 button.colab-df-convert');\n",
              "        buttonEl.style.display =\n",
              "          google.colab.kernel.accessAllowed ? 'block' : 'none';\n",
              "\n",
              "        async function convertToInteractive(key) {\n",
              "          const element = document.querySelector('#df-5f386ea0-5db9-4070-bf17-621b9bef0071');\n",
              "          const dataTable =\n",
              "            await google.colab.kernel.invokeFunction('convertToInteractive',\n",
              "                                                     [key], {});\n",
              "          if (!dataTable) return;\n",
              "\n",
              "          const docLinkHtml = 'Like what you see? Visit the ' +\n",
              "            '<a target=\"_blank\" href=https://colab.research.google.com/notebooks/data_table.ipynb>data table notebook</a>'\n",
              "            + ' to learn more about interactive tables.';\n",
              "          element.innerHTML = '';\n",
              "          dataTable['output_type'] = 'display_data';\n",
              "          await google.colab.output.renderOutput(dataTable, element);\n",
              "          const docLink = document.createElement('div');\n",
              "          docLink.innerHTML = docLinkHtml;\n",
              "          element.appendChild(docLink);\n",
              "        }\n",
              "      </script>\n",
              "    </div>\n",
              "  </div>\n",
              "  "
            ]
          },
          "metadata": {},
          "execution_count": 16
        }
      ]
    },
    {
      "cell_type": "code",
      "source": [
        "data.info()"
      ],
      "metadata": {
        "id": "o36CJ3a0dATb",
        "outputId": "261703e3-022e-444a-d8d2-c808516b604e",
        "colab": {
          "base_uri": "https://localhost:8080/",
          "height": 0
        }
      },
      "execution_count": 17,
      "outputs": [
        {
          "output_type": "stream",
          "name": "stdout",
          "text": [
            "<class 'pandas.core.frame.DataFrame'>\n",
            "RangeIndex: 2741 entries, 0 to 2740\n",
            "Data columns (total 6 columns):\n",
            " #   Column   Non-Null Count  Dtype  \n",
            "---  ------   --------------  -----  \n",
            " 0   Date     2741 non-null   object \n",
            " 1   Unit     2741 non-null   object \n",
            " 2   Minimum  2741 non-null   int64  \n",
            " 3   Maximum  2741 non-null   int64  \n",
            " 4   Average  2741 non-null   float64\n",
            " 5   Market   2741 non-null   object \n",
            "dtypes: float64(1), int64(2), object(3)\n",
            "memory usage: 128.6+ KB\n"
          ]
        }
      ]
    },
    {
      "cell_type": "code",
      "source": [
        "data['Market'].unique()"
      ],
      "metadata": {
        "id": "H59H9vP1eS7-",
        "outputId": "96de3a80-cc6e-4681-a6ad-7e0d4a4a16df",
        "colab": {
          "base_uri": "https://localhost:8080/",
          "height": 0
        }
      },
      "execution_count": 29,
      "outputs": [
        {
          "output_type": "execute_result",
          "data": {
            "text/plain": [
              "array(['Tomato'], dtype=object)"
            ]
          },
          "metadata": {},
          "execution_count": 29
        }
      ]
    },
    {
      "cell_type": "code",
      "source": [
        "minim = 'Tomato'\n",
        "data[data['Market']==minim]"
      ],
      "metadata": {
        "id": "ykJlmV2QefMk",
        "outputId": "e1cfdb58-eb79-46b3-bdff-eafcf8f9fb35",
        "colab": {
          "base_uri": "https://localhost:8080/",
          "height": 423
        }
      },
      "execution_count": 30,
      "outputs": [
        {
          "output_type": "execute_result",
          "data": {
            "text/plain": [
              "            Date Unit  Minimum  Maximum  Average  Market\n",
              "0     2013-06-16   Kg       26       32     29.0  Tomato\n",
              "1     2013-06-17   Kg       20       25     22.5  Tomato\n",
              "2     2013-06-18   Kg       22       26     24.0  Tomato\n",
              "3     2013-06-19   Kg       24       28     26.0  Tomato\n",
              "4     2013-06-20   Kg       22       26     24.0  Tomato\n",
              "...          ...  ...      ...      ...      ...     ...\n",
              "2736  2021-05-09   Kg       10       15     12.5  Tomato\n",
              "2737  2021-05-10   Kg       10       15     12.5  Tomato\n",
              "2738  2021-05-11   Kg       10       15     12.5  Tomato\n",
              "2739  2021-05-12   Kg       30       35     32.5  Tomato\n",
              "2740  2021-05-13   Kg       35       40     37.5  Tomato\n",
              "\n",
              "[2741 rows x 6 columns]"
            ],
            "text/html": [
              "\n",
              "  <div id=\"df-516bb2cc-c8d9-4957-bfbc-35a86fb05168\">\n",
              "    <div class=\"colab-df-container\">\n",
              "      <div>\n",
              "<style scoped>\n",
              "    .dataframe tbody tr th:only-of-type {\n",
              "        vertical-align: middle;\n",
              "    }\n",
              "\n",
              "    .dataframe tbody tr th {\n",
              "        vertical-align: top;\n",
              "    }\n",
              "\n",
              "    .dataframe thead th {\n",
              "        text-align: right;\n",
              "    }\n",
              "</style>\n",
              "<table border=\"1\" class=\"dataframe\">\n",
              "  <thead>\n",
              "    <tr style=\"text-align: right;\">\n",
              "      <th></th>\n",
              "      <th>Date</th>\n",
              "      <th>Unit</th>\n",
              "      <th>Minimum</th>\n",
              "      <th>Maximum</th>\n",
              "      <th>Average</th>\n",
              "      <th>Market</th>\n",
              "    </tr>\n",
              "  </thead>\n",
              "  <tbody>\n",
              "    <tr>\n",
              "      <th>0</th>\n",
              "      <td>2013-06-16</td>\n",
              "      <td>Kg</td>\n",
              "      <td>26</td>\n",
              "      <td>32</td>\n",
              "      <td>29.0</td>\n",
              "      <td>Tomato</td>\n",
              "    </tr>\n",
              "    <tr>\n",
              "      <th>1</th>\n",
              "      <td>2013-06-17</td>\n",
              "      <td>Kg</td>\n",
              "      <td>20</td>\n",
              "      <td>25</td>\n",
              "      <td>22.5</td>\n",
              "      <td>Tomato</td>\n",
              "    </tr>\n",
              "    <tr>\n",
              "      <th>2</th>\n",
              "      <td>2013-06-18</td>\n",
              "      <td>Kg</td>\n",
              "      <td>22</td>\n",
              "      <td>26</td>\n",
              "      <td>24.0</td>\n",
              "      <td>Tomato</td>\n",
              "    </tr>\n",
              "    <tr>\n",
              "      <th>3</th>\n",
              "      <td>2013-06-19</td>\n",
              "      <td>Kg</td>\n",
              "      <td>24</td>\n",
              "      <td>28</td>\n",
              "      <td>26.0</td>\n",
              "      <td>Tomato</td>\n",
              "    </tr>\n",
              "    <tr>\n",
              "      <th>4</th>\n",
              "      <td>2013-06-20</td>\n",
              "      <td>Kg</td>\n",
              "      <td>22</td>\n",
              "      <td>26</td>\n",
              "      <td>24.0</td>\n",
              "      <td>Tomato</td>\n",
              "    </tr>\n",
              "    <tr>\n",
              "      <th>...</th>\n",
              "      <td>...</td>\n",
              "      <td>...</td>\n",
              "      <td>...</td>\n",
              "      <td>...</td>\n",
              "      <td>...</td>\n",
              "      <td>...</td>\n",
              "    </tr>\n",
              "    <tr>\n",
              "      <th>2736</th>\n",
              "      <td>2021-05-09</td>\n",
              "      <td>Kg</td>\n",
              "      <td>10</td>\n",
              "      <td>15</td>\n",
              "      <td>12.5</td>\n",
              "      <td>Tomato</td>\n",
              "    </tr>\n",
              "    <tr>\n",
              "      <th>2737</th>\n",
              "      <td>2021-05-10</td>\n",
              "      <td>Kg</td>\n",
              "      <td>10</td>\n",
              "      <td>15</td>\n",
              "      <td>12.5</td>\n",
              "      <td>Tomato</td>\n",
              "    </tr>\n",
              "    <tr>\n",
              "      <th>2738</th>\n",
              "      <td>2021-05-11</td>\n",
              "      <td>Kg</td>\n",
              "      <td>10</td>\n",
              "      <td>15</td>\n",
              "      <td>12.5</td>\n",
              "      <td>Tomato</td>\n",
              "    </tr>\n",
              "    <tr>\n",
              "      <th>2739</th>\n",
              "      <td>2021-05-12</td>\n",
              "      <td>Kg</td>\n",
              "      <td>30</td>\n",
              "      <td>35</td>\n",
              "      <td>32.5</td>\n",
              "      <td>Tomato</td>\n",
              "    </tr>\n",
              "    <tr>\n",
              "      <th>2740</th>\n",
              "      <td>2021-05-13</td>\n",
              "      <td>Kg</td>\n",
              "      <td>35</td>\n",
              "      <td>40</td>\n",
              "      <td>37.5</td>\n",
              "      <td>Tomato</td>\n",
              "    </tr>\n",
              "  </tbody>\n",
              "</table>\n",
              "<p>2741 rows × 6 columns</p>\n",
              "</div>\n",
              "      <button class=\"colab-df-convert\" onclick=\"convertToInteractive('df-516bb2cc-c8d9-4957-bfbc-35a86fb05168')\"\n",
              "              title=\"Convert this dataframe to an interactive table.\"\n",
              "              style=\"display:none;\">\n",
              "        \n",
              "  <svg xmlns=\"http://www.w3.org/2000/svg\" height=\"24px\"viewBox=\"0 0 24 24\"\n",
              "       width=\"24px\">\n",
              "    <path d=\"M0 0h24v24H0V0z\" fill=\"none\"/>\n",
              "    <path d=\"M18.56 5.44l.94 2.06.94-2.06 2.06-.94-2.06-.94-.94-2.06-.94 2.06-2.06.94zm-11 1L8.5 8.5l.94-2.06 2.06-.94-2.06-.94L8.5 2.5l-.94 2.06-2.06.94zm10 10l.94 2.06.94-2.06 2.06-.94-2.06-.94-.94-2.06-.94 2.06-2.06.94z\"/><path d=\"M17.41 7.96l-1.37-1.37c-.4-.4-.92-.59-1.43-.59-.52 0-1.04.2-1.43.59L10.3 9.45l-7.72 7.72c-.78.78-.78 2.05 0 2.83L4 21.41c.39.39.9.59 1.41.59.51 0 1.02-.2 1.41-.59l7.78-7.78 2.81-2.81c.8-.78.8-2.07 0-2.86zM5.41 20L4 18.59l7.72-7.72 1.47 1.35L5.41 20z\"/>\n",
              "  </svg>\n",
              "      </button>\n",
              "      \n",
              "  <style>\n",
              "    .colab-df-container {\n",
              "      display:flex;\n",
              "      flex-wrap:wrap;\n",
              "      gap: 12px;\n",
              "    }\n",
              "\n",
              "    .colab-df-convert {\n",
              "      background-color: #E8F0FE;\n",
              "      border: none;\n",
              "      border-radius: 50%;\n",
              "      cursor: pointer;\n",
              "      display: none;\n",
              "      fill: #1967D2;\n",
              "      height: 32px;\n",
              "      padding: 0 0 0 0;\n",
              "      width: 32px;\n",
              "    }\n",
              "\n",
              "    .colab-df-convert:hover {\n",
              "      background-color: #E2EBFA;\n",
              "      box-shadow: 0px 1px 2px rgba(60, 64, 67, 0.3), 0px 1px 3px 1px rgba(60, 64, 67, 0.15);\n",
              "      fill: #174EA6;\n",
              "    }\n",
              "\n",
              "    [theme=dark] .colab-df-convert {\n",
              "      background-color: #3B4455;\n",
              "      fill: #D2E3FC;\n",
              "    }\n",
              "\n",
              "    [theme=dark] .colab-df-convert:hover {\n",
              "      background-color: #434B5C;\n",
              "      box-shadow: 0px 1px 3px 1px rgba(0, 0, 0, 0.15);\n",
              "      filter: drop-shadow(0px 1px 2px rgba(0, 0, 0, 0.3));\n",
              "      fill: #FFFFFF;\n",
              "    }\n",
              "  </style>\n",
              "\n",
              "      <script>\n",
              "        const buttonEl =\n",
              "          document.querySelector('#df-516bb2cc-c8d9-4957-bfbc-35a86fb05168 button.colab-df-convert');\n",
              "        buttonEl.style.display =\n",
              "          google.colab.kernel.accessAllowed ? 'block' : 'none';\n",
              "\n",
              "        async function convertToInteractive(key) {\n",
              "          const element = document.querySelector('#df-516bb2cc-c8d9-4957-bfbc-35a86fb05168');\n",
              "          const dataTable =\n",
              "            await google.colab.kernel.invokeFunction('convertToInteractive',\n",
              "                                                     [key], {});\n",
              "          if (!dataTable) return;\n",
              "\n",
              "          const docLinkHtml = 'Like what you see? Visit the ' +\n",
              "            '<a target=\"_blank\" href=https://colab.research.google.com/notebooks/data_table.ipynb>data table notebook</a>'\n",
              "            + ' to learn more about interactive tables.';\n",
              "          element.innerHTML = '';\n",
              "          dataTable['output_type'] = 'display_data';\n",
              "          await google.colab.output.renderOutput(dataTable, element);\n",
              "          const docLink = document.createElement('div');\n",
              "          docLink.innerHTML = docLinkHtml;\n",
              "          element.appendChild(docLink);\n",
              "        }\n",
              "      </script>\n",
              "    </div>\n",
              "  </div>\n",
              "  "
            ]
          },
          "metadata": {},
          "execution_count": 30
        }
      ]
    },
    {
      "cell_type": "code",
      "source": [
        "unique_name = data[data.Average>25]['Maximum'].unique()\n",
        "unique_name.sort\n",
        "unique_name"
      ],
      "metadata": {
        "id": "wIYnp3RlgYwt",
        "outputId": "c8ac7a6e-bf1a-4732-874c-d0324b6b0c90",
        "colab": {
          "base_uri": "https://localhost:8080/",
          "height": 0
        }
      },
      "execution_count": 33,
      "outputs": [
        {
          "output_type": "execute_result",
          "data": {
            "text/plain": [
              "array([ 32,  28,  30,  35,  38,  48,  55,  52,  45,  40,  36,  46,  42,\n",
              "        34,  44,  50,  56,  60,  31,  75,  70,  80,  65,  64,  62,  58,\n",
              "        49,  43,  54,  68, 100,  90,  85,  33,  95,  78,  73,  47,  53,\n",
              "        66,  67,  86,  57, 120, 115])"
            ]
          },
          "metadata": {},
          "execution_count": 33
        }
      ]
    },
    {
      "cell_type": "code",
      "source": [
        "tomat = []\n",
        "for i in unique_name:\n",
        "  tomat.append(data[data.Average>0][data['Maximum']==i][data['Market']==minim].Average.sum())"
      ],
      "metadata": {
        "id": "oHapN8CWhTgk",
        "outputId": "e515818b-93ff-41cb-f4d9-5df801ad2c16",
        "colab": {
          "base_uri": "https://localhost:8080/",
          "height": 0
        }
      },
      "execution_count": 34,
      "outputs": [
        {
          "output_type": "stream",
          "name": "stderr",
          "text": [
            "<ipython-input-34-bd5db634e32b>:3: UserWarning: Boolean Series key will be reindexed to match DataFrame index.\n",
            "  tomat.append(data[data.Average>0][data['Maximum']==i][data['Market']==minim].Average.sum())\n"
          ]
        }
      ]
    },
    {
      "cell_type": "code",
      "source": [
        "from pandas.core.arrays.datetimelike import unique1d\n",
        "print(set(zip(unique_name, tomat)))"
      ],
      "metadata": {
        "id": "3RX3p82Ihzad",
        "outputId": "683526ff-73a3-4214-b60f-de6ed68df69c",
        "colab": {
          "base_uri": "https://localhost:8080/",
          "height": 0
        }
      },
      "execution_count": 35,
      "outputs": [
        {
          "output_type": "stream",
          "name": "stdout",
          "text": [
            "{(30, 8384.5), (55, 6488.0), (52, 882.0), (50, 10379.0), (38, 703.5), (75, 3367.5), (54, 101.5), (100, 577.5), (56, 214.0), (80, 4891.5), (64, 120.5), (95, 367.5), (34, 534.0), (33, 273.0), (47, 177.0), (60, 8213.0), (36, 1150.5), (86, 83.0), (49, 46.5), (35, 9059.5), (57, 53.5), (115, 107.5), (28, 1045.0), (62, 238.5), (70, 7052.5), (85, 1222.5), (44, 205.5), (68, 190.0), (45, 7547.5), (73, 70.5), (67, 63.5), (58, 533.0), (90, 1892.5), (65, 3818.0), (31, 30.5), (46, 174.0), (48, 583.0), (42, 668.0), (78, 145.5), (53, 152.5), (66, 125.0), (32, 861.5), (43, 321.0), (120, 117.5), (40, 9429.5)}\n"
          ]
        }
      ]
    },
    {
      "cell_type": "code",
      "source": [
        "plt.barh(unique_name, tomat)\n",
        "plt.show()"
      ],
      "metadata": {
        "id": "a8i0tT76h8bW",
        "outputId": "577f10e8-560d-48e9-bb92-9ed3c450488a",
        "colab": {
          "base_uri": "https://localhost:8080/",
          "height": 265
        }
      },
      "execution_count": 36,
      "outputs": [
        {
          "output_type": "display_data",
          "data": {
            "text/plain": [
              "<Figure size 432x288 with 1 Axes>"
            ],
            "image/png": "[encoded data removed]"
          },
          "metadata": {
            "needs_background": "light"
          }
        }
      ]
    }
  ],
  "metadata": {
    "colab": {
      "name": "Selamat Datang di Colaboratory",
      "provenance": []
    },
    "kernelspec": {
      "display_name": "Python 3",
      "name": "python3"
    }
  },
  "nbformat": 4,
  "nbformat_minor": 0
}