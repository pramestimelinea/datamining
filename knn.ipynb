{
  "cells": [
    {
      "cell_type": "code",
      "source": [
        "import numpy as np\n",
        "import matplotlib.pyplot as plt\n",
        "import pandas as pd"
      ],
      "metadata": {
        "id": "69e3PgIQMBQ1"
      },
      "execution_count": 1,
      "outputs": []
    },
    {
      "cell_type": "code",
      "source": [
        "from sklearn.model_selection import train_test_split\n",
        "x_train, x_test, y_train, y_test = train_test_split(x, y, test_size = 0.25, random_state = 0)"
      ],
      "metadata": {
        "id": "CAVWQnE_M7r1"
      },
      "execution_count": null,
      "outputs": []
    },
    {
      "cell_type": "code",
      "source": [
        "dataset = pd.read_csv('milknew.csv')\n",
        "x = dataset.iloc[:, [1, 6]].values\n",
        "y = dataset.iloc[:, 2].values"
      ],
      "metadata": {
        "id": "3cWSkhoXMbOO"
      },
      "execution_count": 3,
      "outputs": []
    },
    {
      "cell_type": "code",
      "source": [
        "dataset.head()"
      ],
      "metadata": {
        "id": "ukYIUuRIMwBN",
        "outputId": "f436c8f7-c704-4629-bf3b-a9b117d6caf6",
        "colab": {
          "base_uri": "https://localhost:8080/",
          "height": 206
        }
      },
      "execution_count": 4,
      "outputs": [
        {
          "output_type": "execute_result",
          "data": {
            "text/plain": [
              "    pH  Temprature  Taste  Odor  Fat   Turbidity  Colour   Grade\n",
              "0  6.6          35      1     0     1          0     254    high\n",
              "1  6.6          36      0     1     0          1     253    high\n",
              "2  8.5          70      1     1     1          1     246     low\n",
              "3  9.5          34      1     1     0          1     255     low\n",
              "4  6.6          37      0     0     0          0     255  medium"
            ],
            "text/html": [
              "\n",
              "  <div id=\"df-ccd923bc-5eb8-42ca-a1af-f99a591673d4\">\n",
              "    <div class=\"colab-df-container\">\n",
              "      <div>\n",
              "<style scoped>\n",
              "    .dataframe tbody tr th:only-of-type {\n",
              "        vertical-align: middle;\n",
              "    }\n",
              "\n",
              "    .dataframe tbody tr th {\n",
              "        vertical-align: top;\n",
              "    }\n",
              "\n",
              "    .dataframe thead th {\n",
              "        text-align: right;\n",
              "    }\n",
              "</style>\n",
              "<table border=\"1\" class=\"dataframe\">\n",
              "  <thead>\n",
              "    <tr style=\"text-align: right;\">\n",
              "      <th></th>\n",
              "      <th>pH</th>\n",
              "      <th>Temprature</th>\n",
              "      <th>Taste</th>\n",
              "      <th>Odor</th>\n",
              "      <th>Fat</th>\n",
              "      <th>Turbidity</th>\n",
              "      <th>Colour</th>\n",
              "      <th>Grade</th>\n",
              "    </tr>\n",
              "  </thead>\n",
              "  <tbody>\n",
              "    <tr>\n",
              "      <th>0</th>\n",
              "      <td>6.6</td>\n",
              "      <td>35</td>\n",
              "      <td>1</td>\n",
              "      <td>0</td>\n",
              "      <td>1</td>\n",
              "      <td>0</td>\n",
              "      <td>254</td>\n",
              "      <td>high</td>\n",
              "    </tr>\n",
              "    <tr>\n",
              "      <th>1</th>\n",
              "      <td>6.6</td>\n",
              "      <td>36</td>\n",
              "      <td>0</td>\n",
              "      <td>1</td>\n",
              "      <td>0</td>\n",
              "      <td>1</td>\n",
              "      <td>253</td>\n",
              "      <td>high</td>\n",
              "    </tr>\n",
              "    <tr>\n",
              "      <th>2</th>\n",
              "      <td>8.5</td>\n",
              "      <td>70</td>\n",
              "      <td>1</td>\n",
              "      <td>1</td>\n",
              "      <td>1</td>\n",
              "      <td>1</td>\n",
              "      <td>246</td>\n",
              "      <td>low</td>\n",
              "    </tr>\n",
              "    <tr>\n",
              "      <th>3</th>\n",
              "      <td>9.5</td>\n",
              "      <td>34</td>\n",
              "      <td>1</td>\n",
              "      <td>1</td>\n",
              "      <td>0</td>\n",
              "      <td>1</td>\n",
              "      <td>255</td>\n",
              "      <td>low</td>\n",
              "    </tr>\n",
              "    <tr>\n",
              "      <th>4</th>\n",
              "      <td>6.6</td>\n",
              "      <td>37</td>\n",
              "      <td>0</td>\n",
              "      <td>0</td>\n",
              "      <td>0</td>\n",
              "      <td>0</td>\n",
              "      <td>255</td>\n",
              "      <td>medium</td>\n",
              "    </tr>\n",
              "  </tbody>\n",
              "</table>\n",
              "</div>\n",
              "      <button class=\"colab-df-convert\" onclick=\"convertToInteractive('df-ccd923bc-5eb8-42ca-a1af-f99a591673d4')\"\n",
              "              title=\"Convert this dataframe to an interactive table.\"\n",
              "              style=\"display:none;\">\n",
              "        \n",
              "  <svg xmlns=\"http://www.w3.org/2000/svg\" height=\"24px\"viewBox=\"0 0 24 24\"\n",
              "       width=\"24px\">\n",
              "    <path d=\"M0 0h24v24H0V0z\" fill=\"none\"/>\n",
              "    <path d=\"M18.56 5.44l.94 2.06.94-2.06 2.06-.94-2.06-.94-.94-2.06-.94 2.06-2.06.94zm-11 1L8.5 8.5l.94-2.06 2.06-.94-2.06-.94L8.5 2.5l-.94 2.06-2.06.94zm10 10l.94 2.06.94-2.06 2.06-.94-2.06-.94-.94-2.06-.94 2.06-2.06.94z\"/><path d=\"M17.41 7.96l-1.37-1.37c-.4-.4-.92-.59-1.43-.59-.52 0-1.04.2-1.43.59L10.3 9.45l-7.72 7.72c-.78.78-.78 2.05 0 2.83L4 21.41c.39.39.9.59 1.41.59.51 0 1.02-.2 1.41-.59l7.78-7.78 2.81-2.81c.8-.78.8-2.07 0-2.86zM5.41 20L4 18.59l7.72-7.72 1.47 1.35L5.41 20z\"/>\n",
              "  </svg>\n",
              "      </button>\n",
              "      \n",
              "  <style>\n",
              "    .colab-df-container {\n",
              "      display:flex;\n",
              "      flex-wrap:wrap;\n",
              "      gap: 12px;\n",
              "    }\n",
              "\n",
              "    .colab-df-convert {\n",
              "      background-color: #E8F0FE;\n",
              "      border: none;\n",
              "      border-radius: 50%;\n",
              "      cursor: pointer;\n",
              "      display: none;\n",
              "      fill: #1967D2;\n",
              "      height: 32px;\n",
              "      padding: 0 0 0 0;\n",
              "      width: 32px;\n",
              "    }\n",
              "\n",
              "    .colab-df-convert:hover {\n",
              "      background-color: #E2EBFA;\n",
              "      box-shadow: 0px 1px 2px rgba(60, 64, 67, 0.3), 0px 1px 3px 1px rgba(60, 64, 67, 0.15);\n",
              "      fill: #174EA6;\n",
              "    }\n",
              "\n",
              "    [theme=dark] .colab-df-convert {\n",
              "      background-color: #3B4455;\n",
              "      fill: #D2E3FC;\n",
              "    }\n",
              "\n",
              "    [theme=dark] .colab-df-convert:hover {\n",
              "      background-color: #434B5C;\n",
              "      box-shadow: 0px 1px 3px 1px rgba(0, 0, 0, 0.15);\n",
              "      filter: drop-shadow(0px 1px 2px rgba(0, 0, 0, 0.3));\n",
              "      fill: #FFFFFF;\n",
              "    }\n",
              "  </style>\n",
              "\n",
              "      <script>\n",
              "        const buttonEl =\n",
              "          document.querySelector('#df-ccd923bc-5eb8-42ca-a1af-f99a591673d4 button.colab-df-convert');\n",
              "        buttonEl.style.display =\n",
              "          google.colab.kernel.accessAllowed ? 'block' : 'none';\n",
              "\n",
              "        async function convertToInteractive(key) {\n",
              "          const element = document.querySelector('#df-ccd923bc-5eb8-42ca-a1af-f99a591673d4');\n",
              "          const dataTable =\n",
              "            await google.colab.kernel.invokeFunction('convertToInteractive',\n",
              "                                                     [key], {});\n",
              "          if (!dataTable) return;\n",
              "\n",
              "          const docLinkHtml = 'Like what you see? Visit the ' +\n",
              "            '<a target=\"_blank\" href=https://colab.research.google.com/notebooks/data_table.ipynb>data table notebook</a>'\n",
              "            + ' to learn more about interactive tables.';\n",
              "          element.innerHTML = '';\n",
              "          dataTable['output_type'] = 'display_data';\n",
              "          await google.colab.output.renderOutput(dataTable, element);\n",
              "          const docLink = document.createElement('div');\n",
              "          docLink.innerHTML = docLinkHtml;\n",
              "          element.appendChild(docLink);\n",
              "        }\n",
              "      </script>\n",
              "    </div>\n",
              "  </div>\n",
              "  "
            ]
          },
          "metadata": {},
          "execution_count": 4
        }
      ]
    },
    {
      "cell_type": "code",
      "source": [
        "y"
      ],
      "metadata": {
        "id": "dcCKeip-MzvL",
        "outputId": "2fd451bf-d326-48c9-d57f-0f5724f5a779",
        "colab": {
          "base_uri": "https://localhost:8080/"
        }
      },
      "execution_count": 6,
      "outputs": [
        {
          "output_type": "execute_result",
          "data": {
            "text/plain": [
              "array([1, 0, 1, ..., 1, 1, 0])"
            ]
          },
          "metadata": {},
          "execution_count": 6
        }
      ]
    },
    {
      "cell_type": "code",
      "source": [
        "from sklearn.model_selection import train_test_split\n",
        "x_train, x_test, y_train, y_test = train_test_split(x, y, test_size = 0.25, random_state = 0)"
      ],
      "metadata": {
        "id": "Uc8FX7PINBRU"
      },
      "execution_count": 7,
      "outputs": []
    },
    {
      "cell_type": "code",
      "source": [
        "x_train"
      ],
      "metadata": {
        "id": "2a8j8qKtNRwe",
        "outputId": "f3e6e7e0-f832-48c8-da7b-45f8cee715b6",
        "colab": {
          "base_uri": "https://localhost:8080/"
        }
      },
      "execution_count": 8,
      "outputs": [
        {
          "output_type": "execute_result",
          "data": {
            "text/plain": [
              "array([[ 38, 255],\n",
              "       [ 65, 255],\n",
              "       [ 45, 247],\n",
              "       ...,\n",
              "       [ 38, 255],\n",
              "       [ 43, 250],\n",
              "       [ 38, 255]])"
            ]
          },
          "metadata": {},
          "execution_count": 8
        }
      ]
    },
    {
      "cell_type": "code",
      "source": [
        "len (x_test)"
      ],
      "metadata": {
        "id": "I8PgQQeSNT-o",
        "outputId": "f9e443d2-9764-4aae-9e41-0dbe99be56b1",
        "colab": {
          "base_uri": "https://localhost:8080/"
        }
      },
      "execution_count": 9,
      "outputs": [
        {
          "output_type": "execute_result",
          "data": {
            "text/plain": [
              "265"
            ]
          },
          "metadata": {},
          "execution_count": 9
        }
      ]
    },
    {
      "cell_type": "code",
      "source": [
        "len (x_train)"
      ],
      "metadata": {
        "id": "xAnV7KwnNhBd",
        "outputId": "d2b6b498-4ae2-46d4-f7a3-e11717711974",
        "colab": {
          "base_uri": "https://localhost:8080/"
        }
      },
      "execution_count": 10,
      "outputs": [
        {
          "output_type": "execute_result",
          "data": {
            "text/plain": [
              "794"
            ]
          },
          "metadata": {},
          "execution_count": 10
        }
      ]
    },
    {
      "cell_type": "code",
      "source": [
        "len(x)"
      ],
      "metadata": {
        "id": "VUA-NM6_NjgU",
        "outputId": "32e1961b-bc3f-439e-aa06-be7b9a6dbe8e",
        "colab": {
          "base_uri": "https://localhost:8080/"
        }
      },
      "execution_count": 11,
      "outputs": [
        {
          "output_type": "execute_result",
          "data": {
            "text/plain": [
              "1059"
            ]
          },
          "metadata": {},
          "execution_count": 11
        }
      ]
    },
    {
      "cell_type": "code",
      "source": [
        "len(y)"
      ],
      "metadata": {
        "id": "pndiFHPyNlxK",
        "outputId": "a3e79c6d-67af-4976-c1ff-e2a34d442fa4",
        "colab": {
          "base_uri": "https://localhost:8080/"
        }
      },
      "execution_count": 12,
      "outputs": [
        {
          "output_type": "execute_result",
          "data": {
            "text/plain": [
              "1059"
            ]
          },
          "metadata": {},
          "execution_count": 12
        }
      ]
    },
    {
      "cell_type": "code",
      "source": [
        "len(y_test)"
      ],
      "metadata": {
        "id": "Urd2aYNeNp1S",
        "outputId": "fd79448a-552f-4570-9361-daff5db4298a",
        "colab": {
          "base_uri": "https://localhost:8080/"
        }
      },
      "execution_count": 13,
      "outputs": [
        {
          "output_type": "execute_result",
          "data": {
            "text/plain": [
              "265"
            ]
          },
          "metadata": {},
          "execution_count": 13
        }
      ]
    },
    {
      "cell_type": "code",
      "source": [
        "len(y_train)"
      ],
      "metadata": {
        "id": "of4Xr_2qNsP9",
        "outputId": "239b0801-cf99-48a1-aea3-5c711f23a513",
        "colab": {
          "base_uri": "https://localhost:8080/"
        }
      },
      "execution_count": 14,
      "outputs": [
        {
          "output_type": "execute_result",
          "data": {
            "text/plain": [
              "794"
            ]
          },
          "metadata": {},
          "execution_count": 14
        }
      ]
    },
    {
      "cell_type": "code",
      "source": [
        "from sklearn.preprocessing import StandardScaler\n",
        "sc = StandardScaler()\n",
        "x_train = sc.fit_transform(x_train)\n",
        "x_test = sc.transform(x_test)"
      ],
      "metadata": {
        "id": "ZNAyNx3nNxOo"
      },
      "execution_count": 15,
      "outputs": []
    },
    {
      "cell_type": "code",
      "source": [
        "x_train"
      ],
      "metadata": {
        "id": "MUiG8H_sN0Ij",
        "outputId": "deeb6dda-7479-4352-c78a-ba41c1d36155",
        "colab": {
          "base_uri": "https://localhost:8080/"
        }
      },
      "execution_count": 16,
      "outputs": [
        {
          "output_type": "execute_result",
          "data": {
            "text/plain": [
              "array([[-0.60866162,  0.72584779],\n",
              "       [ 2.01309602,  0.72584779],\n",
              "       [ 0.07105333, -1.14837382],\n",
              "       ...,\n",
              "       [-0.60866162,  0.72584779],\n",
              "       [-0.12315094, -0.44554072],\n",
              "       [-0.60866162,  0.72584779]])"
            ]
          },
          "metadata": {},
          "execution_count": 16
        }
      ]
    },
    {
      "cell_type": "code",
      "source": [
        "x_test"
      ],
      "metadata": {
        "id": "4oJDZZoJN28e",
        "outputId": "4403a284-1131-4f0b-c0b1-c4e353c1d333",
        "colab": {
          "base_uri": "https://localhost:8080/"
        }
      },
      "execution_count": 17,
      "outputs": [
        {
          "output_type": "execute_result",
          "data": {
            "text/plain": [
              "array([[-0.70576375,  0.72584779],\n",
              "       [-0.12315094, -0.44554072],\n",
              "       [ 0.07105333,  0.72584779],\n",
              "       [ 0.556564  ,  0.72584779],\n",
              "       [ 0.07105333, -1.61692922],\n",
              "       [ 0.07105333,  0.72584779],\n",
              "       [ 0.07105333, -0.44554072],\n",
              "       [ 0.07105333,  0.72584779],\n",
              "       [-0.70576375,  0.72584779],\n",
              "       [-0.41445735, -1.61692922],\n",
              "       [-0.41445735,  0.72584779],\n",
              "       [ 0.07105333, -1.61692922],\n",
              "       [-0.99707016, -2.78831773],\n",
              "       [ 0.07105333, -1.61692922],\n",
              "       [-0.41445735,  0.72584779],\n",
              "       [-0.41445735, -0.44554072],\n",
              "       [-0.60866162,  0.72584779],\n",
              "       [-0.60866162,  0.72584779],\n",
              "       [-0.41445735,  0.72584779],\n",
              "       [-0.60866162,  0.72584779],\n",
              "       [ 0.07105333,  0.72584779],\n",
              "       [-0.60866162,  0.72584779],\n",
              "       [-0.70576375,  0.72584779],\n",
              "       [ 0.07105333,  0.72584779],\n",
              "       [-0.60866162,  0.72584779],\n",
              "       [ 0.07105333, -0.44554072],\n",
              "       [ 0.07105333, -1.61692922],\n",
              "       [ 0.07105333, -1.61692922],\n",
              "       [-0.12315094, -0.44554072],\n",
              "       [-0.60866162,  0.72584779],\n",
              "       [-0.70576375,  0.72584779],\n",
              "       [ 2.01309602,  0.72584779],\n",
              "       [ 1.04207467,  0.72584779],\n",
              "       [-0.70576375,  0.72584779],\n",
              "       [-0.12315094, -0.44554072],\n",
              "       [ 0.07105333, -1.61692922],\n",
              "       [ 2.11019816,  0.72584779],\n",
              "       [-0.80286589,  0.25729239],\n",
              "       [-0.60866162,  0.72584779],\n",
              "       [-0.12315094, -0.44554072],\n",
              "       [ 0.07105333, -0.44554072],\n",
              "       [-0.60866162,  0.72584779],\n",
              "       [ 0.07105333, -1.61692922],\n",
              "       [ 2.4986067 , -1.38265152],\n",
              "       [-0.31735521,  0.72584779],\n",
              "       [ 0.07105333, -0.44554072],\n",
              "       [ 0.07105333,  0.72584779],\n",
              "       [ 0.07105333, -0.44554072],\n",
              "       [-0.99707016, -2.78831773],\n",
              "       [-0.12315094, -0.44554072],\n",
              "       [ 0.07105333,  0.72584779],\n",
              "       [ 0.07105333, -0.44554072],\n",
              "       [-0.41445735, -1.61692922],\n",
              "       [ 0.07105333, -2.78831773],\n",
              "       [-0.41445735,  0.72584779],\n",
              "       [-0.41445735, -1.61692922],\n",
              "       [-0.41445735, -1.61692922],\n",
              "       [ 0.07105333, -0.44554072],\n",
              "       [ 0.07105333, -1.14837382],\n",
              "       [ 0.556564  ,  0.72584779],\n",
              "       [-0.60866162,  0.72584779],\n",
              "       [ 1.04207467,  0.72584779],\n",
              "       [ 0.07105333, -1.61692922],\n",
              "       [-0.70576375,  0.72584779],\n",
              "       [ 2.11019816,  0.72584779],\n",
              "       [-0.70576375,  0.72584779],\n",
              "       [ 2.4986067 , -1.38265152],\n",
              "       [-0.41445735, -1.61692922],\n",
              "       [-0.99707016, -2.78831773],\n",
              "       [ 0.07105333, -1.61692922],\n",
              "       [ 0.07105333,  0.72584779],\n",
              "       [-0.89996802, -1.38265152],\n",
              "       [-0.60866162,  0.72584779],\n",
              "       [ 0.07105333,  0.72584779],\n",
              "       [-0.80286589,  0.72584779],\n",
              "       [-0.60866162,  0.72584779],\n",
              "       [ 0.07105333, -1.61692922],\n",
              "       [ 2.11019816,  0.72584779],\n",
              "       [-0.41445735,  0.72584779],\n",
              "       [-0.31735521,  0.72584779],\n",
              "       [-0.60866162,  0.72584779],\n",
              "       [ 0.07105333,  0.72584779],\n",
              "       [-0.60866162,  0.72584779],\n",
              "       [-0.12315094, -0.91409612],\n",
              "       [-0.80286589, -1.14837382],\n",
              "       [-0.80286589, -1.14837382],\n",
              "       [-0.70576375,  0.72584779],\n",
              "       [ 0.556564  , -1.61692922],\n",
              "       [-0.70576375, -1.61692922],\n",
              "       [-0.12315094, -0.91409612],\n",
              "       [ 0.07105333, -1.61692922],\n",
              "       [-0.60866162,  0.72584779],\n",
              "       [-0.41445735, -1.61692922],\n",
              "       [-0.60866162,  0.72584779],\n",
              "       [-0.60866162,  0.72584779],\n",
              "       [-0.89996802, -1.38265152],\n",
              "       [ 1.52758535, -0.44554072],\n",
              "       [ 0.07105333, -1.61692922],\n",
              "       [-0.31735521,  0.72584779],\n",
              "       [-0.60866162,  0.72584779],\n",
              "       [-0.60866162,  0.72584779],\n",
              "       [ 0.07105333, -0.44554072],\n",
              "       [-0.41445735,  0.72584779],\n",
              "       [-0.60866162,  0.72584779],\n",
              "       [-0.60866162,  0.72584779],\n",
              "       [-0.80286589,  0.25729239],\n",
              "       [-0.41445735,  0.72584779],\n",
              "       [-0.80286589,  0.25729239],\n",
              "       [ 2.11019816,  0.72584779],\n",
              "       [ 1.04207467,  0.72584779],\n",
              "       [ 0.07105333, -1.61692922],\n",
              "       [ 0.07105333, -0.44554072],\n",
              "       [-0.41445735,  0.72584779],\n",
              "       [ 0.07105333, -0.44554072],\n",
              "       [-0.99707016,  0.72584779],\n",
              "       [-0.99707016, -2.78831773],\n",
              "       [ 0.07105333, -0.44554072],\n",
              "       [-0.70576375,  0.72584779],\n",
              "       [-0.70576375,  0.72584779],\n",
              "       [-0.60866162,  0.72584779],\n",
              "       [-0.80286589, -1.14837382],\n",
              "       [ 0.07105333,  0.72584779],\n",
              "       [-0.60866162,  0.72584779],\n",
              "       [-0.60866162,  0.72584779],\n",
              "       [-0.60866162,  0.72584779],\n",
              "       [ 0.556564  ,  0.72584779],\n",
              "       [-0.41445735,  0.72584779],\n",
              "       [ 2.11019816,  0.72584779],\n",
              "       [-0.60866162,  0.72584779],\n",
              "       [-0.70576375,  0.72584779],\n",
              "       [-0.99707016,  0.72584779],\n",
              "       [-0.80286589,  0.72584779],\n",
              "       [ 2.4986067 , -1.38265152],\n",
              "       [ 0.07105333, -0.44554072],\n",
              "       [-0.70576375,  0.72584779],\n",
              "       [ 0.07105333, -1.61692922],\n",
              "       [ 0.07105333, -2.78831773],\n",
              "       [-0.89996802, -1.38265152],\n",
              "       [-0.31735521,  0.72584779],\n",
              "       [-0.41445735,  0.72584779],\n",
              "       [-0.60866162,  0.72584779],\n",
              "       [-0.41445735,  0.72584779],\n",
              "       [-0.41445735,  0.72584779],\n",
              "       [ 4.44064939,  0.72584779],\n",
              "       [ 0.07105333,  0.72584779],\n",
              "       [-0.41445735,  0.72584779],\n",
              "       [-0.41445735,  0.72584779],\n",
              "       [ 1.52758535, -0.44554072],\n",
              "       [ 1.04207467,  0.72584779],\n",
              "       [-0.60866162,  0.72584779],\n",
              "       [ 1.04207467,  0.72584779],\n",
              "       [ 0.07105333,  0.72584779],\n",
              "       [-0.41445735, -1.61692922],\n",
              "       [ 1.52758535, -0.44554072],\n",
              "       [-0.41445735,  0.72584779],\n",
              "       [ 0.07105333,  0.72584779],\n",
              "       [-0.31735521,  0.72584779],\n",
              "       [ 0.07105333, -1.14837382],\n",
              "       [ 0.07105333, -1.14837382],\n",
              "       [-0.89996802, -1.38265152],\n",
              "       [ 0.07105333,  0.72584779],\n",
              "       [-0.41445735, -1.61692922],\n",
              "       [ 2.4986067 , -1.38265152],\n",
              "       [-0.41445735, -1.61692922],\n",
              "       [-0.60866162,  0.72584779],\n",
              "       [-0.89996802,  0.72584779],\n",
              "       [-0.60866162,  0.72584779],\n",
              "       [-0.99707016,  0.72584779],\n",
              "       [-0.12315094, -0.44554072],\n",
              "       [-0.41445735, -1.61692922],\n",
              "       [ 0.556564  ,  0.72584779],\n",
              "       [ 2.4986067 , -1.38265152],\n",
              "       [-0.60866162,  0.72584779],\n",
              "       [ 0.07105333, -0.44554072],\n",
              "       [-0.80286589,  0.25729239],\n",
              "       [-0.41445735,  0.72584779],\n",
              "       [ 0.07105333,  0.72584779],\n",
              "       [ 0.07105333, -0.44554072],\n",
              "       [-0.70576375,  0.72584779],\n",
              "       [-0.60866162,  0.72584779],\n",
              "       [-0.80286589, -1.14837382],\n",
              "       [ 1.52758535, -0.44554072],\n",
              "       [ 1.04207467,  0.72584779],\n",
              "       [ 0.556564  , -0.44554072],\n",
              "       [ 4.44064939,  0.72584779],\n",
              "       [-0.70576375,  0.72584779],\n",
              "       [-0.60866162,  0.72584779],\n",
              "       [-0.12315094, -0.44554072],\n",
              "       [ 2.11019816,  0.72584779],\n",
              "       [ 0.556564  , -1.38265152],\n",
              "       [-0.80286589,  0.25729239],\n",
              "       [ 2.11019816,  0.72584779],\n",
              "       [-0.99707016,  0.72584779],\n",
              "       [ 1.04207467,  0.72584779],\n",
              "       [ 0.07105333, -1.14837382],\n",
              "       [-0.12315094, -0.91409612],\n",
              "       [-0.31735521,  0.72584779],\n",
              "       [-0.60866162,  0.72584779],\n",
              "       [ 0.07105333,  0.72584779],\n",
              "       [ 0.07105333, -2.78831773],\n",
              "       [ 1.04207467,  0.72584779],\n",
              "       [ 0.07105333,  0.72584779],\n",
              "       [ 0.07105333, -1.14837382],\n",
              "       [ 0.556564  , -1.61692922],\n",
              "       [ 0.07105333,  0.72584779],\n",
              "       [ 0.07105333, -2.78831773],\n",
              "       [-0.41445735,  0.72584779],\n",
              "       [-0.31735521,  0.72584779],\n",
              "       [-0.31735521,  0.72584779],\n",
              "       [ 0.07105333, -0.44554072],\n",
              "       [ 0.07105333, -1.61692922],\n",
              "       [ 0.07105333,  0.72584779],\n",
              "       [-0.60866162,  0.72584779],\n",
              "       [ 0.07105333, -0.44554072],\n",
              "       [ 0.07105333, -2.78831773],\n",
              "       [-0.41445735, -0.44554072],\n",
              "       [ 0.07105333, -1.61692922],\n",
              "       [-0.31735521, -1.14837382],\n",
              "       [ 0.07105333,  0.72584779],\n",
              "       [-0.60866162,  0.72584779],\n",
              "       [-0.41445735,  0.72584779],\n",
              "       [-0.60866162,  0.72584779],\n",
              "       [-0.41445735, -1.61692922],\n",
              "       [-0.12315094, -0.44554072],\n",
              "       [ 0.07105333, -1.14837382],\n",
              "       [ 2.01309602,  0.72584779],\n",
              "       [ 4.44064939,  0.72584779],\n",
              "       [ 0.07105333, -1.61692922],\n",
              "       [-0.70576375,  0.72584779],\n",
              "       [-0.41445735,  0.72584779],\n",
              "       [-0.41445735,  0.72584779],\n",
              "       [ 2.4986067 , -1.38265152],\n",
              "       [-0.60866162,  0.72584779],\n",
              "       [-0.80286589,  0.25729239],\n",
              "       [-0.60866162,  0.72584779],\n",
              "       [-0.70576375,  0.72584779],\n",
              "       [-0.41445735,  0.72584779],\n",
              "       [ 0.556564  ,  0.72584779],\n",
              "       [ 1.04207467,  0.72584779],\n",
              "       [-0.80286589,  0.25729239],\n",
              "       [-0.12315094, -0.91409612],\n",
              "       [ 0.07105333,  0.72584779],\n",
              "       [ 2.11019816,  0.72584779],\n",
              "       [-0.80286589, -1.14837382],\n",
              "       [-0.70576375,  0.72584779],\n",
              "       [ 1.04207467,  0.72584779],\n",
              "       [-0.60866162,  0.72584779],\n",
              "       [ 0.07105333,  0.72584779],\n",
              "       [ 0.07105333, -0.44554072],\n",
              "       [-0.41445735,  0.72584779],\n",
              "       [-0.80286589,  0.72584779],\n",
              "       [ 2.01309602,  0.72584779],\n",
              "       [ 0.07105333, -1.61692922],\n",
              "       [-0.12315094, -0.44554072],\n",
              "       [-0.12315094, -0.44554072],\n",
              "       [ 0.07105333, -0.44554072],\n",
              "       [-0.70576375,  0.72584779],\n",
              "       [-0.12315094, -0.44554072],\n",
              "       [-0.12315094, -0.44554072],\n",
              "       [-0.99707016,  0.72584779],\n",
              "       [-0.60866162,  0.72584779],\n",
              "       [-0.60866162,  0.72584779],\n",
              "       [ 0.07105333, -1.38265152],\n",
              "       [ 1.04207467,  0.72584779],\n",
              "       [ 0.07105333,  0.72584779]])"
            ]
          },
          "metadata": {},
          "execution_count": 17
        }
      ]
    },
    {
      "cell_type": "code",
      "source": [
        ", kneighbors_graph\n",
        "from sklearn.neighbors import KNeighborsClassifier\n",
        "classifier = KNeighborsClassifier(n_neighbors = 5, metric = 'minkowski', p=2)\n",
        "classifier.fit(x_train, y_train)"
      ],
      "metadata": {
        "id": "0j48XHbxN9IV",
        "outputId": "c1cb915e-a351-45e5-e4a8-aeb33a24a188",
        "colab": {
          "base_uri": "https://localhost:8080/",
          "height": 74
        }
      },
      "execution_count": 19,
      "outputs": [
        {
          "output_type": "execute_result",
          "data": {
            "text/plain": [
              "KNeighborsClassifier()"
            ],
            "text/html": [
              "<style>#sk-container-id-1 {color: black;background-color: white;}#sk-container-id-1 pre{padding: 0;}#sk-container-id-1 div.sk-toggleable {background-color: white;}#sk-container-id-1 label.sk-toggleable__label {cursor: pointer;display: block;width: 100%;margin-bottom: 0;padding: 0.3em;box-sizing: border-box;text-align: center;}#sk-container-id-1 label.sk-toggleable__label-arrow:before {content: \"▸\";float: left;margin-right: 0.25em;color: #696969;}#sk-container-id-1 label.sk-toggleable__label-arrow:hover:before {color: black;}#sk-container-id-1 div.sk-estimator:hover label.sk-toggleable__label-arrow:before {color: black;}#sk-container-id-1 div.sk-toggleable__content {max-height: 0;max-width: 0;overflow: hidden;text-align: left;background-color: #f0f8ff;}#sk-container-id-1 div.sk-toggleable__content pre {margin: 0.2em;color: black;border-radius: 0.25em;background-color: #f0f8ff;}#sk-container-id-1 input.sk-toggleable__control:checked~div.sk-toggleable__content {max-height: 200px;max-width: 100%;overflow: auto;}#sk-container-id-1 input.sk-toggleable__control:checked~label.sk-toggleable__label-arrow:before {content: \"▾\";}#sk-container-id-1 div.sk-estimator input.sk-toggleable__control:checked~label.sk-toggleable__label {background-color: #d4ebff;}#sk-container-id-1 div.sk-label input.sk-toggleable__control:checked~label.sk-toggleable__label {background-color: #d4ebff;}#sk-container-id-1 input.sk-hidden--visually {border: 0;clip: rect(1px 1px 1px 1px);clip: rect(1px, 1px, 1px, 1px);height: 1px;margin: -1px;overflow: hidden;padding: 0;position: absolute;width: 1px;}#sk-container-id-1 div.sk-estimator {font-family: monospace;background-color: #f0f8ff;border: 1px dotted black;border-radius: 0.25em;box-sizing: border-box;margin-bottom: 0.5em;}#sk-container-id-1 div.sk-estimator:hover {background-color: #d4ebff;}#sk-container-id-1 div.sk-parallel-item::after {content: \"\";width: 100%;border-bottom: 1px solid gray;flex-grow: 1;}#sk-container-id-1 div.sk-label:hover label.sk-toggleable__label {background-color: #d4ebff;}#sk-container-id-1 div.sk-serial::before {content: \"\";position: absolute;border-left: 1px solid gray;box-sizing: border-box;top: 0;bottom: 0;left: 50%;z-index: 0;}#sk-container-id-1 div.sk-serial {display: flex;flex-direction: column;align-items: center;background-color: white;padding-right: 0.2em;padding-left: 0.2em;position: relative;}#sk-container-id-1 div.sk-item {position: relative;z-index: 1;}#sk-container-id-1 div.sk-parallel {display: flex;align-items: stretch;justify-content: center;background-color: white;position: relative;}#sk-container-id-1 div.sk-item::before, #sk-container-id-1 div.sk-parallel-item::before {content: \"\";position: absolute;border-left: 1px solid gray;box-sizing: border-box;top: 0;bottom: 0;left: 50%;z-index: -1;}#sk-container-id-1 div.sk-parallel-item {display: flex;flex-direction: column;z-index: 1;position: relative;background-color: white;}#sk-container-id-1 div.sk-parallel-item:first-child::after {align-self: flex-end;width: 50%;}#sk-container-id-1 div.sk-parallel-item:last-child::after {align-self: flex-start;width: 50%;}#sk-container-id-1 div.sk-parallel-item:only-child::after {width: 0;}#sk-container-id-1 div.sk-dashed-wrapped {border: 1px dashed gray;margin: 0 0.4em 0.5em 0.4em;box-sizing: border-box;padding-bottom: 0.4em;background-color: white;}#sk-container-id-1 div.sk-label label {font-family: monospace;font-weight: bold;display: inline-block;line-height: 1.2em;}#sk-container-id-1 div.sk-label-container {text-align: center;}#sk-container-id-1 div.sk-container {/* jupyter's `normalize.less` sets `[hidden] { display: none; }` but bootstrap.min.css set `[hidden] { display: none !important; }` so we also need the `!important` here to be able to override the default hidden behavior on the sphinx rendered scikit-learn.org. See: https://github.com/scikit-learn/scikit-learn/issues/21755 */display: inline-block !important;position: relative;}#sk-container-id-1 div.sk-text-repr-fallback {display: none;}</style><div id=\"sk-container-id-1\" class=\"sk-top-container\"><div class=\"sk-text-repr-fallback\"><pre>KNeighborsClassifier()</pre><b>In a Jupyter environment, please rerun this cell to show the HTML representation or trust the notebook. <br />On GitHub, the HTML representation is unable to render, please try loading this page with nbviewer.org.</b></div><div class=\"sk-container\" hidden><div class=\"sk-item\"><div class=\"sk-estimator sk-toggleable\"><input class=\"sk-toggleable__control sk-hidden--visually\" id=\"sk-estimator-id-1\" type=\"checkbox\" checked><label for=\"sk-estimator-id-1\" class=\"sk-toggleable__label sk-toggleable__label-arrow\">KNeighborsClassifier</label><div class=\"sk-toggleable__content\"><pre>KNeighborsClassifier()</pre></div></div></div></div></div>"
            ]
          },
          "metadata": {},
          "execution_count": 19
        }
      ]
    },
    {
      "cell_type": "code",
      "source": [
        "y_pred = classifier.predict(x_test)"
      ],
      "metadata": {
        "id": "WFDXIDuKOHUu"
      },
      "execution_count": 20,
      "outputs": []
    },
    {
      "cell_type": "code",
      "source": [
        "from sklearn.metrics import confusion_matrix\n",
        "cm = confusion_matrix( y_test, y_pred)\n",
        "print(cm)"
      ],
      "metadata": {
        "id": "1HmUpPm7OJqf",
        "outputId": "de3d30d7-85bd-4f09-a77e-ab81c3752725",
        "colab": {
          "base_uri": "https://localhost:8080/"
        }
      },
      "execution_count": 21,
      "outputs": [
        {
          "output_type": "stream",
          "name": "stdout",
          "text": [
            "[[101  12]\n",
            " [ 23 129]]\n"
          ]
        }
      ]
    },
    {
      "cell_type": "code",
      "source": [
        "from matplotlib.colors import ListedColormap\n",
        "X_set, y_set = x_train, y_train\n",
        "X1, X2 = np.meshgrid(np.arange(start = X_set[:, 0].min() - 1, stop = X_set[:, 0].max() + 1, step = 0.01),\n",
        "                     np.arange(start = X_set[:, 1].min() - 1, stop = X_set[:, 1].max() + 1, step = 0.01))\n",
        "plt.contourf(X1, X2, classifier.predict(np.array([X1.ravel(), X2.ravel()]).T).reshape(X1.shape),\n",
        "             alpha = 0.75, cmap = ListedColormap(('red', 'green')))\n",
        "plt.xlim(X1.min(), X1.max())\n",
        "plt.ylim(X2.min(), X2.max())\n",
        "for i, j in enumerate(np.unique(y_set)):\n",
        "    plt.scatter(X_set[y_set == j, 0], X_set[y_set == j, 1],\n",
        "                c = ListedColormap(('red', 'green'))(i), label = j)\n",
        "plt.title('Klasifikasi Data dengan K-NN (Data Training)')\n",
        "plt.xlabel('Tempratur')\n",
        "plt.ylabel('Taste')\n",
        "plt.legend()\n",
        "plt.show()"
      ],
      "metadata": {
        "id": "-8Vdna1VON4O",
        "outputId": "4d1210a6-4084-4f1b-fe02-464c19cf0e74",
        "colab": {
          "base_uri": "https://localhost:8080/",
          "height": 527
        }
      },
      "execution_count": 25,
      "outputs": [
        {
          "output_type": "stream",
          "name": "stderr",
          "text": [
            "<ipython-input-25-233571f7d9aa>:10: UserWarning: *c* argument looks like a single numeric RGB or RGBA sequence, which should be avoided as value-mapping will have precedence in case its length matches with *x* & *y*.  Please use the *color* keyword-argument or provide a 2D array with a single row if you intend to specify the same RGB or RGBA value for all points.\n",
            "  plt.scatter(X_set[y_set == j, 0], X_set[y_set == j, 1],\n"
          ]
        },
        {
          "output_type": "display_data",
          "data": {
            "text/plain": [
              "<Figure size 640x480 with 1 Axes>"
            ],
            "image/png": "[encoded data removed]"
          },
          "metadata": {}
        }
      ]
    },
    {
      "cell_type": "code",
      "source": [],
      "metadata": {
        "id": "KUDjN-32PMxu"
      },
      "execution_count": null,
      "outputs": []
    },
    {
      "cell_type": "code",
      "source": [
        "from matplotlib.colors import ListedColormap\n",
        "X_set, y_set = x_test, y_test\n",
        "X1, X2 = np.meshgrid(np.arange(start = X_set[:, 0].min() - 1, stop = X_set[:, 0].max() + 1, step = 0.01),\n",
        "                     np.arange(start = X_set[:, 1].min() - 1, stop = X_set[:, 1].max() + 1, step = 0.01))\n",
        "plt.contourf(X1, X2, classifier.predict(np.array([X1.ravel(), X2.ravel()]).T).reshape(X1.shape),\n",
        "             alpha = 0.75, cmap = ListedColormap(('red', 'green')))\n",
        "plt.xlim(X1.min(), X1.max())\n",
        "plt.ylim(X2.min(), X2.max())\n",
        "for i, j in enumerate(np.unique(y_set)):\n",
        "    plt.scatter(X_set[y_set == j, 0], X_set[y_set == j, 1],\n",
        "                c = ListedColormap(('red', 'green'))(i), label = j)\n",
        "plt.title('Klasifikasi Data dengan K-NN (Data Training)')\n",
        "plt.xlabel('Tempratur')\n",
        "plt.ylabel('Taste')\n",
        "plt.legend()\n",
        "plt.show()"
      ],
      "metadata": {
        "id": "MFE1tTEBOXSc",
        "outputId": "402904e7-64ac-41d0-c6bc-379e4f88ca8b",
        "colab": {
          "base_uri": "https://localhost:8080/",
          "height": 527
        }
      },
      "execution_count": 24,
      "outputs": [
        {
          "output_type": "stream",
          "name": "stderr",
          "text": [
            "<ipython-input-24-3f24a2e79003>:10: UserWarning: *c* argument looks like a single numeric RGB or RGBA sequence, which should be avoided as value-mapping will have precedence in case its length matches with *x* & *y*.  Please use the *color* keyword-argument or provide a 2D array with a single row if you intend to specify the same RGB or RGBA value for all points.\n",
            "  plt.scatter(X_set[y_set == j, 0], X_set[y_set == j, 1],\n"
          ]
        },
        {
          "output_type": "display_data",
          "data": {
            "text/plain": [
              "<Figure size 640x480 with 1 Axes>"
            ],
            "image/png": "[encoded data removed]"
          },
          "metadata": {}
        }
      ]
    }
  ],
  "metadata": {
    "colab": {
      "name": "Welcome To Colaboratory",
      "provenance": []
    },
    "kernelspec": {
      "display_name": "Python 3",
      "name": "python3"
    }
  },
  "nbformat": 4,
  "nbformat_minor": 0
}